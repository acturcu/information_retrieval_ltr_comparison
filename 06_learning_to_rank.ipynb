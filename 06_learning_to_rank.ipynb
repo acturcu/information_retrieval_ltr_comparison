{
  "cells": [
    {
      "cell_type": "markdown",
      "metadata": {
        "id": "TBWdcYNTW8nA"
      },
      "source": [
        "# Introduction to PyTerrier\n",
        "\n",
        "_DSAIT4050: Information retrieval lecture, TU Delft_\n",
        "\n",
        "**Part 6: Learning to rank**\n",
        "\n",
        "In this part, we'll dive into learning-to-rank (LTR) models. Specifically, we'll cover how to use PyTerrier transformers to\n",
        "\n",
        "- compute query-document features and\n",
        "- train and evaluate LTR models.\n",
        "\n",
        "In order to run everything in this notebook, you'll need [NLTK](https://www.nltk.org/), [scikit-learn](https://scikit-learn.org/), and [LightGBM](https://github.com/microsoft/LightGBM/tree/master/python-package) installed:\n"
      ]
    },
    {
      "cell_type": "code",
      "execution_count": 1,
      "metadata": {
        "id": "ZxbOrwF5W8nD",
        "vscode": {
          "languageId": "shellscript"
        }
      },
      "outputs": [
        {
          "name": "stdout",
          "output_type": "stream",
          "text": [
            "Requirement already satisfied: python-terrier==0.12.1 in c:\\projects\\information_retrieval_ltr_comparison\\.venv\\lib\\site-packages (0.12.1)\n",
            "Requirement already satisfied: nltk in c:\\projects\\information_retrieval_ltr_comparison\\.venv\\lib\\site-packages (3.9.1)\n",
            "Requirement already satisfied: scikit-learn in c:\\projects\\information_retrieval_ltr_comparison\\.venv\\lib\\site-packages (1.6.1)\n",
            "Requirement already satisfied: lightgbm in c:\\projects\\information_retrieval_ltr_comparison\\.venv\\lib\\site-packages (4.6.0)\n",
            "Requirement already satisfied: numpy in c:\\projects\\information_retrieval_ltr_comparison\\.venv\\lib\\site-packages (from python-terrier==0.12.1) (2.2.4)\n",
            "Requirement already satisfied: pandas in c:\\projects\\information_retrieval_ltr_comparison\\.venv\\lib\\site-packages (from python-terrier==0.12.1) (2.2.3)\n",
            "Requirement already satisfied: more-itertools in c:\\projects\\information_retrieval_ltr_comparison\\.venv\\lib\\site-packages (from python-terrier==0.12.1) (10.6.0)\n",
            "Requirement already satisfied: tqdm in c:\\projects\\information_retrieval_ltr_comparison\\.venv\\lib\\site-packages (from python-terrier==0.12.1) (4.67.1)\n",
            "Requirement already satisfied: requests in c:\\projects\\information_retrieval_ltr_comparison\\.venv\\lib\\site-packages (from python-terrier==0.12.1) (2.32.3)\n",
            "Requirement already satisfied: ir-datasets>=0.3.2 in c:\\projects\\information_retrieval_ltr_comparison\\.venv\\lib\\site-packages (from python-terrier==0.12.1) (0.5.10)\n",
            "Requirement already satisfied: wget in c:\\projects\\information_retrieval_ltr_comparison\\.venv\\lib\\site-packages (from python-terrier==0.12.1) (3.2)\n",
            "Requirement already satisfied: pyjnius>=1.4.2 in c:\\projects\\information_retrieval_ltr_comparison\\.venv\\lib\\site-packages (from python-terrier==0.12.1) (1.6.1)\n",
            "Requirement already satisfied: deprecated in c:\\projects\\information_retrieval_ltr_comparison\\.venv\\lib\\site-packages (from python-terrier==0.12.1) (1.2.18)\n",
            "Requirement already satisfied: scipy in c:\\projects\\information_retrieval_ltr_comparison\\.venv\\lib\\site-packages (from python-terrier==0.12.1) (1.15.2)\n",
            "Requirement already satisfied: ir-measures>=0.3.1 in c:\\projects\\information_retrieval_ltr_comparison\\.venv\\lib\\site-packages (from python-terrier==0.12.1) (0.3.7)\n",
            "Requirement already satisfied: pytrec-eval-terrier>=0.5.3 in c:\\projects\\information_retrieval_ltr_comparison\\.venv\\lib\\site-packages (from python-terrier==0.12.1) (0.5.6)\n",
            "Requirement already satisfied: jinja2 in c:\\projects\\information_retrieval_ltr_comparison\\.venv\\lib\\site-packages (from python-terrier==0.12.1) (3.1.6)\n",
            "Requirement already satisfied: statsmodels in c:\\projects\\information_retrieval_ltr_comparison\\.venv\\lib\\site-packages (from python-terrier==0.12.1) (0.14.4)\n",
            "Requirement already satisfied: dill in c:\\projects\\information_retrieval_ltr_comparison\\.venv\\lib\\site-packages (from python-terrier==0.12.1) (0.3.9)\n",
            "Requirement already satisfied: joblib in c:\\projects\\information_retrieval_ltr_comparison\\.venv\\lib\\site-packages (from python-terrier==0.12.1) (1.4.2)\n",
            "Requirement already satisfied: chest in c:\\projects\\information_retrieval_ltr_comparison\\.venv\\lib\\site-packages (from python-terrier==0.12.1) (0.2.3)\n",
            "Requirement already satisfied: click in c:\\projects\\information_retrieval_ltr_comparison\\.venv\\lib\\site-packages (from nltk) (8.1.8)\n",
            "Requirement already satisfied: regex>=2021.8.3 in c:\\projects\\information_retrieval_ltr_comparison\\.venv\\lib\\site-packages (from nltk) (2024.11.6)\n",
            "Requirement already satisfied: threadpoolctl>=3.1.0 in c:\\projects\\information_retrieval_ltr_comparison\\.venv\\lib\\site-packages (from scikit-learn) (3.6.0)\n",
            "Requirement already satisfied: beautifulsoup4>=4.4.1 in c:\\projects\\information_retrieval_ltr_comparison\\.venv\\lib\\site-packages (from ir-datasets>=0.3.2->python-terrier==0.12.1) (4.13.3)\n",
            "Requirement already satisfied: inscriptis>=2.2.0 in c:\\projects\\information_retrieval_ltr_comparison\\.venv\\lib\\site-packages (from ir-datasets>=0.3.2->python-terrier==0.12.1) (2.5.3)\n",
            "Requirement already satisfied: lxml>=4.5.2 in c:\\projects\\information_retrieval_ltr_comparison\\.venv\\lib\\site-packages (from ir-datasets>=0.3.2->python-terrier==0.12.1) (5.3.1)\n",
            "Requirement already satisfied: pyyaml>=5.3.1 in c:\\projects\\information_retrieval_ltr_comparison\\.venv\\lib\\site-packages (from ir-datasets>=0.3.2->python-terrier==0.12.1) (6.0.2)\n",
            "Requirement already satisfied: trec-car-tools>=2.5.4 in c:\\projects\\information_retrieval_ltr_comparison\\.venv\\lib\\site-packages (from ir-datasets>=0.3.2->python-terrier==0.12.1) (2.6)\n",
            "Requirement already satisfied: lz4>=3.1.10 in c:\\projects\\information_retrieval_ltr_comparison\\.venv\\lib\\site-packages (from ir-datasets>=0.3.2->python-terrier==0.12.1) (4.4.3)\n",
            "Requirement already satisfied: warc3-wet>=0.2.3 in c:\\projects\\information_retrieval_ltr_comparison\\.venv\\lib\\site-packages (from ir-datasets>=0.3.2->python-terrier==0.12.1) (0.2.5)\n",
            "Requirement already satisfied: warc3-wet-clueweb09>=0.2.5 in c:\\projects\\information_retrieval_ltr_comparison\\.venv\\lib\\site-packages (from ir-datasets>=0.3.2->python-terrier==0.12.1) (0.2.5)\n",
            "Requirement already satisfied: zlib-state>=0.1.3 in c:\\projects\\information_retrieval_ltr_comparison\\.venv\\lib\\site-packages (from ir-datasets>=0.3.2->python-terrier==0.12.1) (0.1.9)\n",
            "Requirement already satisfied: ijson>=3.1.3 in c:\\projects\\information_retrieval_ltr_comparison\\.venv\\lib\\site-packages (from ir-datasets>=0.3.2->python-terrier==0.12.1) (3.3.0)\n",
            "Requirement already satisfied: unlzw3>=0.2.1 in c:\\projects\\information_retrieval_ltr_comparison\\.venv\\lib\\site-packages (from ir-datasets>=0.3.2->python-terrier==0.12.1) (0.2.3)\n",
            "Requirement already satisfied: pyarrow>=16.1.0 in c:\\projects\\information_retrieval_ltr_comparison\\.venv\\lib\\site-packages (from ir-datasets>=0.3.2->python-terrier==0.12.1) (19.0.1)\n",
            "Requirement already satisfied: charset-normalizer<4,>=2 in c:\\projects\\information_retrieval_ltr_comparison\\.venv\\lib\\site-packages (from requests->python-terrier==0.12.1) (3.4.1)\n",
            "Requirement already satisfied: idna<4,>=2.5 in c:\\projects\\information_retrieval_ltr_comparison\\.venv\\lib\\site-packages (from requests->python-terrier==0.12.1) (3.10)\n",
            "Requirement already satisfied: urllib3<3,>=1.21.1 in c:\\projects\\information_retrieval_ltr_comparison\\.venv\\lib\\site-packages (from requests->python-terrier==0.12.1) (2.3.0)\n",
            "Requirement already satisfied: certifi>=2017.4.17 in c:\\projects\\information_retrieval_ltr_comparison\\.venv\\lib\\site-packages (from requests->python-terrier==0.12.1) (2025.1.31)\n",
            "Requirement already satisfied: colorama in c:\\projects\\information_retrieval_ltr_comparison\\.venv\\lib\\site-packages (from tqdm->python-terrier==0.12.1) (0.4.6)\n",
            "Requirement already satisfied: heapdict in c:\\projects\\information_retrieval_ltr_comparison\\.venv\\lib\\site-packages (from chest->python-terrier==0.12.1) (1.0.1)\n",
            "Requirement already satisfied: wrapt<2,>=1.10 in c:\\projects\\information_retrieval_ltr_comparison\\.venv\\lib\\site-packages (from deprecated->python-terrier==0.12.1) (1.17.2)\n",
            "Requirement already satisfied: MarkupSafe>=2.0 in c:\\projects\\information_retrieval_ltr_comparison\\.venv\\lib\\site-packages (from jinja2->python-terrier==0.12.1) (3.0.2)\n",
            "Requirement already satisfied: python-dateutil>=2.8.2 in c:\\projects\\information_retrieval_ltr_comparison\\.venv\\lib\\site-packages (from pandas->python-terrier==0.12.1) (2.9.0.post0)\n",
            "Requirement already satisfied: pytz>=2020.1 in c:\\projects\\information_retrieval_ltr_comparison\\.venv\\lib\\site-packages (from pandas->python-terrier==0.12.1) (2025.1)\n",
            "Requirement already satisfied: tzdata>=2022.7 in c:\\projects\\information_retrieval_ltr_comparison\\.venv\\lib\\site-packages (from pandas->python-terrier==0.12.1) (2025.1)\n",
            "Requirement already satisfied: patsy>=0.5.6 in c:\\projects\\information_retrieval_ltr_comparison\\.venv\\lib\\site-packages (from statsmodels->python-terrier==0.12.1) (1.0.1)\n",
            "Requirement already satisfied: packaging>=21.3 in c:\\projects\\information_retrieval_ltr_comparison\\.venv\\lib\\site-packages (from statsmodels->python-terrier==0.12.1) (24.2)\n",
            "Requirement already satisfied: soupsieve>1.2 in c:\\projects\\information_retrieval_ltr_comparison\\.venv\\lib\\site-packages (from beautifulsoup4>=4.4.1->ir-datasets>=0.3.2->python-terrier==0.12.1) (2.6)\n",
            "Requirement already satisfied: typing-extensions>=4.0.0 in c:\\projects\\information_retrieval_ltr_comparison\\.venv\\lib\\site-packages (from beautifulsoup4>=4.4.1->ir-datasets>=0.3.2->python-terrier==0.12.1) (4.12.2)\n",
            "Requirement already satisfied: six>=1.5 in c:\\projects\\information_retrieval_ltr_comparison\\.venv\\lib\\site-packages (from python-dateutil>=2.8.2->pandas->python-terrier==0.12.1) (1.17.0)\n",
            "Requirement already satisfied: cbor>=1.0.0 in c:\\projects\\information_retrieval_ltr_comparison\\.venv\\lib\\site-packages (from trec-car-tools>=2.5.4->ir-datasets>=0.3.2->python-terrier==0.12.1) (1.0.0)\n",
            "Note: you may need to restart the kernel to use updated packages.\n"
          ]
        }
      ],
      "source": [
        "pip install python-terrier==0.12.1 nltk scikit-learn lightgbm"
      ]
    },
    {
      "cell_type": "code",
      "execution_count": 2,
      "metadata": {
        "id": "n3AB6cavW8nE"
      },
      "outputs": [],
      "source": [
        "import pyterrier as pt"
      ]
    },
    {
      "cell_type": "markdown",
      "metadata": {
        "id": "RcshW9fZW8nE"
      },
      "source": [
        "We'll use NLTK for tokenization later. This requires some data that we need to download first:\n"
      ]
    },
    {
      "cell_type": "code",
      "execution_count": 3,
      "metadata": {
        "id": "AF01wPEQW8nE"
      },
      "outputs": [
        {
          "name": "stderr",
          "output_type": "stream",
          "text": [
            "[nltk_data] Downloading package punkt to\n",
            "[nltk_data]     C:\\Users\\sebim\\AppData\\Roaming\\nltk_data...\n",
            "[nltk_data]   Unzipping tokenizers\\punkt.zip.\n"
          ]
        },
        {
          "data": {
            "text/plain": [
              "True"
            ]
          },
          "execution_count": 3,
          "metadata": {},
          "output_type": "execute_result"
        }
      ],
      "source": [
        "import nltk\n",
        "\n",
        "nltk.download(\"punkt\")"
      ]
    },
    {
      "cell_type": "markdown",
      "metadata": {
        "id": "be6tS_u8W8nF"
      },
      "source": [
        "We'll use the `nfcorpus` dataset again, as before. In this notebook, we'll use a subset of the queries (`nontopic`). The only reason for this is that it makes the computations faster.\n"
      ]
    },
    {
      "cell_type": "code",
      "execution_count": 4,
      "metadata": {
        "id": "2H1oTYOXW8nF"
      },
      "outputs": [],
      "source": [
        "dataset = pt.get_dataset(\"irds:nfcorpus\")"
      ]
    },
    {
      "cell_type": "markdown",
      "metadata": {
        "id": "DLtijesLW8nF"
      },
      "source": [
        "As LTR models rely on query and document features, we'll include some metadata in our index, namely the titles, abstracts, and URLs.\n",
        "\n",
        "Note that this seems to slow down retrieval quite a bit (even when we're not retrieving the metadata from the index), so this notebook might run slower on your machine than the previous ones.\n"
      ]
    },
    {
      "cell_type": "code",
      "execution_count": 5,
      "metadata": {
        "id": "-Ia7N_vFW8nG"
      },
      "outputs": [
        {
          "name": "stderr",
          "output_type": "stream",
          "text": [
            "Java started (triggered by TerrierIndexer.__init__) and loaded: pyterrier.java, pyterrier.terrier.java [version=5.11 (build: craig.macdonald 2025-01-13 21:29), helper_version=0.0.8]\n",
            "[INFO] If you have a local copy of https://www.cl.uni-heidelberg.de/statnlpgroup/nfcorpus/nfcorpus.tar.gz, you can symlink it here to avoid downloading it again: C:\\Users\\sebim\\.ir_datasets\\downloads\\49c061fbadc52ba4d35d0e42e2d742fd\n",
            "[INFO] [starting] https://www.cl.uni-heidelberg.de/statnlpgroup/nfcorpus/nfcorpus.tar.gz\n",
            "                                                            \n",
            "\u001b[A                                                                                                               [INFO] [finished] https://www.cl.uni-heidelberg.de/statnlpgroup/nfcorpus/nfcorpus.tar.gz: [00:02] [31.0MB] [11.1MB/s]\n",
            "nfcorpus documents: 100%|██████████| 5371/5371 [00:09<00:00, 587.11it/s] \n"
          ]
        }
      ],
      "source": [
        "from pathlib import Path\n",
        "\n",
        "index = pt.index.IterDictIndexer(\n",
        "    str(Path.cwd()),  # this will be ignored\n",
        "    meta={\n",
        "        \"docno\": 16,\n",
        "        \"title\": 256,\n",
        "        \"abstract\": 65536,\n",
        "        \"url\": 128,\n",
        "    },\n",
        "    type=pt.index.IndexingType.MEMORY,\n",
        ").index(dataset.get_corpus_iter(), fields=[\"title\", \"abstract\", \"url\"])"
      ]
    },
    {
      "cell_type": "markdown",
      "metadata": {
        "id": "9X6sBsUSW8nG"
      },
      "source": [
        "## LTR paradigm\n",
        "\n",
        "The idea of learning-to-rank is to use a feature-based supervised machine learning model for ranking. PyTerrier supports end-to-end LTR pipelines, including first-stage retrieval, computation of features, training, and evaluation.\n",
        "\n",
        "### First-stage retrieval\n",
        "\n",
        "LTR models are commonly used in a two-stage process (_retrieve-and-re-rank_): A lightweight retrieval model is used for _candidate selection_ given a query, and the LTR model subsequently _re-ranks_ the candidates. This is because applying the LTR model directly on the whole corpus would be too expensive.\n",
        "\n",
        "We'll use good old BM25 for first-stage retrieval. In order to keep the runtime of this notebook down, we limit the number of documents to be re-ranked to `100`. We also include the metadata of the retrieved documents so we can use it to compute features later:\n"
      ]
    },
    {
      "cell_type": "code",
      "execution_count": 6,
      "metadata": {
        "id": "J16jRmWoW8nG"
      },
      "outputs": [],
      "source": [
        "first_stage_bm25 = pt.terrier.Retriever(\n",
        "    index,\n",
        "    wmodel=\"BM25\",\n",
        "    num_results=100,\n",
        "    metadata=[\"docno\", \"title\", \"abstract\", \"url\"],\n",
        ")"
      ]
    },
    {
      "cell_type": "markdown",
      "metadata": {
        "id": "dcUyg6x-W8nG"
      },
      "source": [
        "### Computing features\n",
        "\n",
        "In order to compute features, we can use PyTerrier transformers. Specifically, the `**` operator (_feature union_) collects features computed by transformers in a designated column in the data frame.\n",
        "\n",
        "In order to illustrate this, we can use other retrievers to compute features. By applying the feature operator, we instruct PyTerrier to use these models for _scoring_ rather than retrieval. Here, we initialize two `pyterrier.terrier.Retriever` objects with the PL2 and DPH weighting models and include them in the pipeline:\n"
      ]
    },
    {
      "cell_type": "code",
      "execution_count": null,
      "metadata": {
        "id": "ZmKtAMBpW8nG"
      },
      "outputs": [],
      "source": [
        "pipeline_with_features = first_stage_bm25 >> (\n",
        "    pt.terrier.Retriever(index, wmodel=\"PL2\")\n",
        "    ** pt.terrier.Retriever(index, wmodel=\"DPH\")\n",
        ")"
      ]
    },
    {
      "cell_type": "markdown",
      "metadata": {
        "id": "1LwUTasxW8nH"
      },
      "source": [
        "What this pipeline does is the following: For each query,\n",
        "\n",
        "1. retrieve the top-`100` documents using the first-stage retriever (BM25), and\n",
        "2. compute the PL2 and DPH scores for each query-document pair (these are the features).\n",
        "\n",
        "Let's run this pipeline on a single query from the test set:\n"
      ]
    },
    {
      "cell_type": "code",
      "execution_count": null,
      "metadata": {
        "id": "y2WcHqKnW8nH"
      },
      "outputs": [],
      "source": [
        "test_queries = pt.get_dataset(\"irds:nfcorpus/test/nontopic\").get_topics()\n",
        "pipeline_with_features(test_queries[test_queries[\"qid\"] == \"PLAIN-102\"])"
      ]
    },
    {
      "cell_type": "markdown",
      "metadata": {
        "id": "_GVeADxjW8nH"
      },
      "source": [
        "Each row corresponds to one of the candidate documents for this query. The `score` column contains the first-stage retrieval score (BM25), by which the documents are ordered. Finally, the `features` column contains the list of features. In our case, the first feature is the PL2 score, and the second feature is the DPH score.\n",
        "\n",
        "#### Custom features\n",
        "\n",
        "It is also easy to compute our own features. This can be done with custom transformers.\n",
        "\n",
        "Say, for example, we want to compute very simple similarity scores of the query to the title and abstract of each document, respectively. We can do this by implementing a function that takes as input a single row of the data frame (as above) and outputs a list of features (as a `numpy.ndarray`). In our case, we compute the Jaccard similarity of the query to the title and abstract:\n"
      ]
    },
    {
      "cell_type": "code",
      "execution_count": null,
      "metadata": {
        "id": "UJ6BaojoW8nH"
      },
      "outputs": [],
      "source": [
        "import numpy as np\n",
        "\n",
        "\n",
        "def _jaccard_sim(row):\n",
        "    query_tokens = set(nltk.word_tokenize(row[\"query\"].lower()))\n",
        "    title_tokens = set(nltk.word_tokenize(row[\"title\"].lower()))\n",
        "    abstract_tokens = set(nltk.word_tokenize(row[\"abstract\"].lower()))\n",
        "    js_query_title = len(query_tokens & title_tokens) / len(query_tokens | title_tokens)\n",
        "    js_query_abstract = len(query_tokens & abstract_tokens) / len(\n",
        "        query_tokens | abstract_tokens\n",
        "    )\n",
        "    return np.array([js_query_title, js_query_abstract])"
      ]
    },
    {
      "cell_type": "markdown",
      "metadata": {
        "id": "QkObqibZW8nH"
      },
      "source": [
        "_Side note: This way of doing it is inefficient, because each query is tokenized multiple times. Can you think of a better way of implementing this?_\n",
        "\n",
        "We can now include this function as a transformer in our pipeline by using [`pyterrier.apply.doc_features`](https://pyterrier.readthedocs.io/en/latest/apply.html#pyterrier.apply.doc_features).\n",
        "\n",
        "You might have noticed that we're accessing the `title` and `abstract` columns in the data frame. This is possible because we added them as metadata during indexing and specified the metadata to be retrieved by `first_stage_bm25`. Alternatively, you can use the [`pyterrier.text.get_text`](https://pyterrier.readthedocs.io/en/latest/text.html#pyterrier.text.get_text) transformer to retrieve metadata from the index.\n",
        "\n",
        "Our new pipeline looks like this:\n"
      ]
    },
    {
      "cell_type": "code",
      "execution_count": null,
      "metadata": {
        "id": "xcBumvViW8nH"
      },
      "outputs": [],
      "source": [
        "pipeline_with_features = first_stage_bm25 >> (\n",
        "    pt.apply.doc_features(_jaccard_sim)\n",
        "    ** pt.terrier.Retriever(index, wmodel=\"PL2\")\n",
        "    ** pt.terrier.Retriever(index, wmodel=\"DPH\")\n",
        ")"
      ]
    },
    {
      "cell_type": "markdown",
      "metadata": {
        "id": "lbfUJheWW8nH"
      },
      "source": [
        "Running the same query through the new pipeline, we can see that our four features show up in the list:\n"
      ]
    },
    {
      "cell_type": "code",
      "execution_count": null,
      "metadata": {
        "id": "yAoeBOxnW8nI"
      },
      "outputs": [],
      "source": [
        "pipeline_with_features(test_queries[test_queries[\"qid\"] == \"PLAIN-102\"])"
      ]
    },
    {
      "cell_type": "markdown",
      "metadata": {
        "id": "9QP99zHQW8nI"
      },
      "source": [
        "If you only want to compute a single feature in your custom transformer, you can use [`pyterrier.apply.doc_score`](https://pyterrier.readthedocs.io/en/latest/apply.html#pyterrier.apply.doc_score). Let's add two more features:\n",
        "\n",
        "1. By returning `row[\"score\"]`, we're simply adding the first-stage retrieval score to the feature set.\n",
        "2. We'll also include the length of the URL as a feature.\n",
        "\n",
        "We now have a complete pipeline with six features in total:\n"
      ]
    },
    {
      "cell_type": "code",
      "execution_count": null,
      "metadata": {
        "id": "xYrPzNirW8nI"
      },
      "outputs": [],
      "source": [
        "pipeline_complete = first_stage_bm25 >> (\n",
        "    pt.apply.doc_features(_jaccard_sim)\n",
        "    ** pt.terrier.Retriever(index, wmodel=\"PL2\")\n",
        "    ** pt.terrier.Retriever(index, wmodel=\"DPH\")\n",
        "    ** pt.apply.doc_score(lambda row: row[\"score\"])\n",
        "    ** pt.apply.doc_score(lambda row: len(row[\"url\"]))\n",
        ")"
      ]
    },
    {
      "cell_type": "markdown",
      "metadata": {
        "id": "Ttz6BU4yW8nI"
      },
      "source": [
        "### Training LTR models\n",
        "\n",
        "The actual models used for re-ranking are not implemented in PyTerrier itself; rather, PyTerrier provides a transformer for trainable models (i.e., regression or LTR models) that implement a scikit-learn-like API (i.e., `fit` and `predict` methods). These trainable transformers are [`pyterrier.Estimator`](https://pyterrier.readthedocs.io/en/latest/transformer.html#pt-transformer-estimator) objects.\n",
        "\n",
        "We'll start by training a simple SVM regression model from scikit-learn. Estimators can be created using [`pyterrier.ltr.apply_learned_model`](https://pyterrier.readthedocs.io/en/latest/ltr.html#pyterrier.ltr.apply_learned_model):\n"
      ]
    },
    {
      "cell_type": "code",
      "execution_count": null,
      "metadata": {
        "id": "dUxHlETAW8nI"
      },
      "outputs": [],
      "source": [
        "from sklearn.svm import SVR\n",
        "\n",
        "ltr_svm = pipeline_complete >> pt.ltr.apply_learned_model(SVR())"
      ]
    },
    {
      "cell_type": "markdown",
      "metadata": {
        "id": "ACT_gkVyW8nI"
      },
      "source": [
        "Before we can do re-ranking, the model needs to be trained. The `nfcorpus` dataset provides a train/dev/test split, so we can easily load the training data.\n",
        "\n",
        "**Depending on your hardware, some of the next cells might take a while to execute.**\n"
      ]
    },
    {
      "cell_type": "code",
      "execution_count": null,
      "metadata": {
        "id": "KUgEEWl3W8nI"
      },
      "outputs": [],
      "source": [
        "ltr_svm.fit(\n",
        "    pt.get_dataset(\"irds:nfcorpus/train/nontopic\").get_topics(),\n",
        "    pt.get_dataset(\"irds:nfcorpus/train/nontopic\").get_qrels(),\n",
        ")"
      ]
    },
    {
      "cell_type": "markdown",
      "metadata": {
        "id": "apG1OxIsW8nI"
      },
      "source": [
        "We can also directly use gradient boosting methods from [XGBoost](https://xgboost.readthedocs.io/en/latest/) and [LightGBM](https://lightgbm.readthedocs.io/en/stable/) by specifying `form=\"ltr\"`. Let's train a [`lightgbm.LGBMRanker`](https://lightgbm.readthedocs.io/en/latest/pythonapi/lightgbm.LGBMRanker.html), which defaults to a LambdaMART model:\n"
      ]
    },
    {
      "cell_type": "code",
      "execution_count": null,
      "metadata": {
        "id": "UXAWArqYW8nI"
      },
      "outputs": [],
      "source": [
        "from lightgbm import LGBMRanker\n",
        "\n",
        "ltr_lambdamart = pipeline_complete >> pt.ltr.apply_learned_model(\n",
        "    LGBMRanker(\n",
        "        metric=\"ndcg\",\n",
        "        importance_type=\"gain\",\n",
        "    ),\n",
        "    form=\"ltr\",\n",
        ")"
      ]
    },
    {
      "cell_type": "markdown",
      "metadata": {
        "id": "5ZYda1dnW8nI"
      },
      "source": [
        "This model makes use of validation (dev) data:\n"
      ]
    },
    {
      "cell_type": "code",
      "execution_count": null,
      "metadata": {
        "id": "kDMcuvbOW8nJ"
      },
      "outputs": [],
      "source": [
        "ltr_lambdamart.fit(\n",
        "    pt.get_dataset(\"irds:nfcorpus/train/nontopic\").get_topics(),\n",
        "    pt.get_dataset(\"irds:nfcorpus/train/nontopic\").get_qrels(),\n",
        "    pt.get_dataset(\"irds:nfcorpus/dev/nontopic\").get_topics(),\n",
        "    pt.get_dataset(\"irds:nfcorpus/dev/nontopic\").get_qrels(),\n",
        ")"
      ]
    },
    {
      "cell_type": "markdown",
      "metadata": {
        "id": "tN9AjueLW8nJ"
      },
      "source": [
        "Finally, we can compare the baseline performance (no LTR) with the SVM and LambdaMART models on the test set:\n"
      ]
    },
    {
      "cell_type": "code",
      "execution_count": null,
      "metadata": {
        "id": "JZcztgceW8nJ"
      },
      "outputs": [],
      "source": [
        "from pyterrier.measures import nDCG, RR, MAP\n",
        "\n",
        "pt.Experiment(\n",
        "    [first_stage_bm25, ltr_svm, ltr_lambdamart],\n",
        "    pt.get_dataset(\"irds:nfcorpus/test/nontopic\").get_topics(),\n",
        "    pt.get_dataset(\"irds:nfcorpus/test/nontopic\").get_qrels(),\n",
        "    names=[\"BM25\", \"BM25 >> LTR (SVM)\", \"BM25 >> LTR (LambdaMART)\"],\n",
        "    eval_metrics=[nDCG @ 10, RR @ 10, MAP],\n",
        ")"
      ]
    },
    {
      "cell_type": "markdown",
      "metadata": {
        "id": "Mx8fz4-zW8nJ"
      },
      "source": [
        "### FeaturesRetriever\n",
        "\n",
        "So far, we have used the feature union operator (`**`) to append PL2 and DPH scores to our feature list. This is not optimal, because each of the operations requires another index access to compute the features. If we're only interested in those retrieval-based features, we can use [`pyterrier.terrier.FeaturesRetriever`](https://pyterrier.readthedocs.io/en/latest/ltr.html#featuresretriever) instead, which computes everything at once:\n"
      ]
    },
    {
      "cell_type": "code",
      "execution_count": null,
      "metadata": {
        "id": "7l_-eoZ8W8nJ"
      },
      "outputs": [],
      "source": [
        "bm25_fr = pt.terrier.FeaturesRetriever(\n",
        "    index,\n",
        "    wmodel=\"BM25\",\n",
        "    features=[\"WMODEL:BM25\", \"WMODEL:PL2\", \"WMODEL:DPH\"],\n",
        "    num_results=100,\n",
        ")"
      ]
    },
    {
      "cell_type": "markdown",
      "metadata": {
        "id": "9ScxohIvW8nJ"
      },
      "source": [
        "### Feature ablation\n",
        "\n",
        "Given our approach above (`bm25_fr`) with three features, we might be interested to know which of these features has the greatest impact on ranking performance. In order to find out, we could create three separate pipelines, where each of them has one of the features removed, and then compare the performance.\n",
        "\n",
        "Luckily, PyTerrier has us covered and provides transformers to make our lives easier: [`pyterrier.ltr.ablate_features`](https://pyterrier.readthedocs.io/en/latest/ltr.html#pyterrier.ltr.ablate_features) can be included in a pipeline to dynamically remove a set of features; [`pyterrier.ltr.keep_features`](https://pyterrier.readthedocs.io/en/latest/ltr.html#pyterrier.ltr.keep_features) does the opposite. Hence, we can simply use it in a loop to get the effect we want:\n"
      ]
    },
    {
      "cell_type": "code",
      "execution_count": null,
      "metadata": {
        "id": "3oc0m0jsW8nJ"
      },
      "outputs": [],
      "source": [
        "ltr_lambdamart_abl = {\n",
        "    feature: bm25_fr\n",
        "    >> pt.ltr.ablate_features(feature)\n",
        "    >> pt.ltr.apply_learned_model(\n",
        "        LGBMRanker(\n",
        "            metric=\"ndcg\",\n",
        "            importance_type=\"gain\",\n",
        "        ),\n",
        "        form=\"ltr\",\n",
        "    )\n",
        "    for feature in [0, 1, 2]\n",
        "}"
      ]
    },
    {
      "cell_type": "markdown",
      "metadata": {
        "id": "nKVEBbKyW8nJ"
      },
      "source": [
        "We have to train each of these models individually:\n"
      ]
    },
    {
      "cell_type": "code",
      "execution_count": null,
      "metadata": {
        "id": "_yCH8CHRW8nJ"
      },
      "outputs": [],
      "source": [
        "for pipeline in ltr_lambdamart_abl.values():\n",
        "    pipeline.fit(\n",
        "        pt.get_dataset(\"irds:nfcorpus/train/nontopic\").get_topics(),\n",
        "        pt.get_dataset(\"irds:nfcorpus/train/nontopic\").get_qrels(),\n",
        "        pt.get_dataset(\"irds:nfcorpus/dev/nontopic\").get_topics(),\n",
        "        pt.get_dataset(\"irds:nfcorpus/dev/nontopic\").get_qrels(),\n",
        "    )"
      ]
    },
    {
      "cell_type": "markdown",
      "metadata": {
        "id": "di-xdRfHW8nN"
      },
      "source": [
        "Finally, let's compare them:\n"
      ]
    },
    {
      "cell_type": "code",
      "execution_count": null,
      "metadata": {
        "id": "rbIfl6XQW8nN"
      },
      "outputs": [],
      "source": [
        "pipelines, names = [], []\n",
        "for feature, pipeline in ltr_lambdamart_abl.items():\n",
        "    pipelines.append(pipeline)\n",
        "    names.append(f\"LambdaMART (feature {feature} removed)\")\n",
        "\n",
        "pt.Experiment(\n",
        "    pipelines,\n",
        "    pt.get_dataset(\"irds:nfcorpus/test/nontopic\").get_topics(),\n",
        "    pt.get_dataset(\"irds:nfcorpus/test/nontopic\").get_qrels(),\n",
        "    names=names,\n",
        "    eval_metrics=[nDCG @ 10, RR @ 10, MAP],\n",
        ")"
      ]
    },
    {
      "cell_type": "markdown",
      "metadata": {
        "id": "s_vJ-JF5W8nN"
      },
      "source": [
        "## Further reading\n",
        "\n",
        "Check out the [LTR section](https://pyterrier.readthedocs.io/en/latest/ltr.html) in the PyTerrier documentation.\n"
      ]
    }
  ],
  "metadata": {
    "colab": {
      "provenance": []
    },
    "kernelspec": {
      "display_name": ".venv",
      "language": "python",
      "name": "python3"
    },
    "language_info": {
      "codemirror_mode": {
        "name": "ipython",
        "version": 3
      },
      "file_extension": ".py",
      "mimetype": "text/x-python",
      "name": "python",
      "nbconvert_exporter": "python",
      "pygments_lexer": "ipython3",
      "version": "3.12.9"
    }
  },
  "nbformat": 4,
  "nbformat_minor": 0
}
