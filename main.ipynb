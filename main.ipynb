{
 "cells": [
  {
   "cell_type": "code",
   "execution_count": null,
   "metadata": {
    "vscode": {
     "languageId": "shellscript"
    }
   },
   "outputs": [],
   "source": [
    "pip install python-terrier==0.12.1 nltk scikit-learn lightgbm"
   ]
  },
  {
   "cell_type": "code",
   "execution_count": null,
   "metadata": {},
   "outputs": [],
   "source": [
    "import pyterrier as pt\n",
    "import nltk\n",
    "\n",
    "nltk.download(\"punkt\")"
   ]
  },
  {
   "cell_type": "code",
   "execution_count": null,
   "metadata": {},
   "outputs": [],
   "source": [
    "dataset = pt.get_dataset(\"irds:nfcorpus\")"
   ]
  },
  {
   "cell_type": "code",
   "execution_count": null,
   "metadata": {},
   "outputs": [],
   "source": [
    "from pathlib import Path\n",
    "\n",
    "index = pt.index.IterDictIndexer(\n",
    "    str(Path.cwd()),  # this will be ignored\n",
    "    meta={\n",
    "        \"docno\": 16,\n",
    "        \"title\": 256,\n",
    "        \"abstract\": 65536,\n",
    "        \"url\": 128,\n",
    "    },\n",
    "    type=pt.index.IndexingType.MEMORY,\n",
    ").index(dataset.get_corpus_iter(), fields=[\"title\", \"abstract\", \"url\"])"
   ]
  },
  {
   "cell_type": "code",
   "execution_count": null,
   "metadata": {},
   "outputs": [],
   "source": [
    "base_model = pt.terrier.FeaturesRetriever(\n",
    "    index,\n",
    "    wmodel=\"BM25\",\n",
    "    features=[\"WMODEL:BM25\", \"WMODEL:PL2\", \"WMODEL:DPH\"],\n",
    "    num_results=100,\n",
    ")"
   ]
  },
  {
   "cell_type": "code",
   "execution_count": null,
   "metadata": {},
   "outputs": [],
   "source": [
    "from models.lambdaMART import *\n",
    "from models.lambdaRank import *\n",
    "from models.rankSVM import *\n",
    "\n",
    "lambdaMART = get_lambdaMART_model(base_model)\n",
    "lambdaRank = get_lambdaRank_model(base_model)\n",
    "rankSVM = get_rankSVM_model(base_model)"
   ]
  }
 ],
 "metadata": {
  "kernelspec": {
   "display_name": ".venv",
   "language": "python",
   "name": "python3"
  },
  "language_info": {
   "codemirror_mode": {
    "name": "ipython",
    "version": 3
   },
   "file_extension": ".py",
   "mimetype": "text/x-python",
   "name": "python",
   "nbconvert_exporter": "python",
   "pygments_lexer": "ipython3",
   "version": "3.12.9"
  }
 },
 "nbformat": 4,
 "nbformat_minor": 2
}
