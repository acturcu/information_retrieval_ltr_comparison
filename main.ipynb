{
 "cells": [
  {
   "cell_type": "code",
   "execution_count": 2,
   "metadata": {
    "vscode": {
     "languageId": "shellscript"
    }
   },
   "outputs": [
    {
     "name": "stdout",
     "output_type": "stream",
     "text": [
      "Collecting python-terrier==0.12.1\n",
      "  Using cached python_terrier-0.12.1-py3-none-any.whl.metadata (11 kB)\n",
      "Collecting nltk\n",
      "  Using cached nltk-3.9.1-py3-none-any.whl.metadata (2.9 kB)\n",
      "Collecting scikit-learn\n",
      "  Using cached scikit_learn-1.6.1-cp310-cp310-macosx_12_0_arm64.whl.metadata (31 kB)\n",
      "Collecting lightgbm\n",
      "  Using cached lightgbm-4.6.0-py3-none-macosx_12_0_arm64.whl.metadata (17 kB)\n",
      "Collecting fastrank\n",
      "  Using cached fastrank-0.8.0-py3-none-macosx_10_9_x86_64.macosx_11_0_arm64.macosx_10_9_universal2.whl.metadata (1.6 kB)\n",
      "Collecting LambdaRankNN\n",
      "  Using cached LambdaRankNN-0.1.1-py3-none-any.whl.metadata (1.8 kB)\n",
      "Requirement already satisfied: numpy in /Users/pepijn/anaconda3/envs/ir_ranknet/lib/python3.10/site-packages (from python-terrier==0.12.1) (1.26.4)\n",
      "Collecting pandas (from python-terrier==0.12.1)\n",
      "  Downloading pandas-2.2.3-cp310-cp310-macosx_11_0_arm64.whl.metadata (89 kB)\n",
      "Collecting more-itertools (from python-terrier==0.12.1)\n",
      "  Using cached more_itertools-10.6.0-py3-none-any.whl.metadata (37 kB)\n",
      "Collecting tqdm (from python-terrier==0.12.1)\n",
      "  Using cached tqdm-4.67.1-py3-none-any.whl.metadata (57 kB)\n",
      "Requirement already satisfied: requests in /Users/pepijn/anaconda3/envs/ir_ranknet/lib/python3.10/site-packages (from python-terrier==0.12.1) (2.32.3)\n",
      "Collecting ir-datasets>=0.3.2 (from python-terrier==0.12.1)\n",
      "  Downloading ir_datasets-0.5.10-py3-none-any.whl.metadata (12 kB)\n",
      "Collecting wget (from python-terrier==0.12.1)\n",
      "  Using cached wget-3.2.zip (10 kB)\n",
      "  Preparing metadata (setup.py) ... \u001b[?25ldone\n",
      "\u001b[?25hCollecting pyjnius>=1.4.2 (from python-terrier==0.12.1)\n",
      "  Downloading pyjnius-1.6.1-cp310-cp310-macosx_10_9_universal2.whl.metadata (10 kB)\n",
      "Collecting deprecated (from python-terrier==0.12.1)\n",
      "  Using cached Deprecated-1.2.18-py2.py3-none-any.whl.metadata (5.7 kB)\n",
      "Requirement already satisfied: scipy in /Users/pepijn/anaconda3/envs/ir_ranknet/lib/python3.10/site-packages (from python-terrier==0.12.1) (1.15.2)\n",
      "Collecting ir-measures>=0.3.1 (from python-terrier==0.12.1)\n",
      "  Downloading ir_measures-0.3.7-py3-none-any.whl.metadata (7.0 kB)\n",
      "Collecting pytrec-eval-terrier>=0.5.3 (from python-terrier==0.12.1)\n",
      "  Downloading pytrec_eval-terrier-0.5.6.tar.gz (16 kB)\n",
      "  Installing build dependencies ... \u001b[?25ldone\n",
      "\u001b[?25h  Getting requirements to build wheel ... \u001b[?25ldone\n",
      "\u001b[?25h  Preparing metadata (pyproject.toml) ... \u001b[?25ldone\n",
      "\u001b[?25hCollecting jinja2 (from python-terrier==0.12.1)\n",
      "  Downloading jinja2-3.1.6-py3-none-any.whl.metadata (2.9 kB)\n",
      "Collecting statsmodels (from python-terrier==0.12.1)\n",
      "  Downloading statsmodels-0.14.4-cp310-cp310-macosx_11_0_arm64.whl.metadata (9.2 kB)\n",
      "Collecting dill (from python-terrier==0.12.1)\n",
      "  Using cached dill-0.3.9-py3-none-any.whl.metadata (10 kB)\n",
      "Collecting joblib (from python-terrier==0.12.1)\n",
      "  Using cached joblib-1.4.2-py3-none-any.whl.metadata (5.4 kB)\n",
      "Collecting chest (from python-terrier==0.12.1)\n",
      "  Using cached chest-0.2.3.tar.gz (9.6 kB)\n",
      "  Preparing metadata (setup.py) ... \u001b[?25ldone\n",
      "\u001b[?25hRequirement already satisfied: click in /Users/pepijn/anaconda3/envs/ir_ranknet/lib/python3.10/site-packages (from nltk) (8.1.8)\n",
      "Collecting regex>=2021.8.3 (from nltk)\n",
      "  Downloading regex-2024.11.6-cp310-cp310-macosx_11_0_arm64.whl.metadata (40 kB)\n",
      "Collecting threadpoolctl>=3.1.0 (from scikit-learn)\n",
      "  Using cached threadpoolctl-3.6.0-py3-none-any.whl.metadata (13 kB)\n",
      "Requirement already satisfied: cffi in /Users/pepijn/anaconda3/envs/ir_ranknet/lib/python3.10/site-packages (from fastrank) (1.17.1)\n",
      "Collecting beautifulsoup4>=4.4.1 (from ir-datasets>=0.3.2->python-terrier==0.12.1)\n",
      "  Using cached beautifulsoup4-4.13.3-py3-none-any.whl.metadata (3.8 kB)\n",
      "Collecting inscriptis>=2.2.0 (from ir-datasets>=0.3.2->python-terrier==0.12.1)\n",
      "  Downloading inscriptis-2.6.0-py3-none-any.whl.metadata (25 kB)\n",
      "Collecting lxml>=4.5.2 (from ir-datasets>=0.3.2->python-terrier==0.12.1)\n",
      "  Downloading lxml-5.3.1-cp310-cp310-macosx_10_9_universal2.whl.metadata (3.7 kB)\n",
      "Collecting pyyaml>=5.3.1 (from ir-datasets>=0.3.2->python-terrier==0.12.1)\n",
      "  Downloading PyYAML-6.0.2-cp310-cp310-macosx_11_0_arm64.whl.metadata (2.1 kB)\n",
      "Collecting trec-car-tools>=2.5.4 (from ir-datasets>=0.3.2->python-terrier==0.12.1)\n",
      "  Using cached trec_car_tools-2.6-py3-none-any.whl.metadata (640 bytes)\n",
      "Collecting lz4>=3.1.10 (from ir-datasets>=0.3.2->python-terrier==0.12.1)\n",
      "  Downloading lz4-4.4.3-cp310-cp310-macosx_11_0_arm64.whl.metadata (3.8 kB)\n",
      "Collecting warc3-wet>=0.2.3 (from ir-datasets>=0.3.2->python-terrier==0.12.1)\n",
      "  Using cached warc3_wet-0.2.5-py3-none-any.whl.metadata (2.2 kB)\n",
      "Collecting warc3-wet-clueweb09>=0.2.5 (from ir-datasets>=0.3.2->python-terrier==0.12.1)\n",
      "  Using cached warc3-wet-clueweb09-0.2.5.tar.gz (17 kB)\n",
      "  Preparing metadata (setup.py) ... \u001b[?25ldone\n",
      "\u001b[?25hCollecting zlib-state>=0.1.3 (from ir-datasets>=0.3.2->python-terrier==0.12.1)\n",
      "  Using cached zlib_state-0.1.9.tar.gz (9.5 kB)\n",
      "  Installing build dependencies ... \u001b[?25ldone\n",
      "\u001b[?25h  Getting requirements to build wheel ... \u001b[?25ldone\n",
      "\u001b[?25h  Preparing metadata (pyproject.toml) ... \u001b[?25ldone\n",
      "\u001b[?25hCollecting ijson>=3.1.3 (from ir-datasets>=0.3.2->python-terrier==0.12.1)\n",
      "  Downloading ijson-3.3.0-cp310-cp310-macosx_11_0_arm64.whl.metadata (21 kB)\n",
      "Collecting unlzw3>=0.2.1 (from ir-datasets>=0.3.2->python-terrier==0.12.1)\n",
      "  Using cached unlzw3-0.2.3-py3-none-any.whl.metadata (2.3 kB)\n",
      "Collecting pyarrow>=16.1.0 (from ir-datasets>=0.3.2->python-terrier==0.12.1)\n",
      "  Downloading pyarrow-19.0.1-cp310-cp310-macosx_12_0_arm64.whl.metadata (3.3 kB)\n",
      "Requirement already satisfied: charset_normalizer<4,>=2 in /Users/pepijn/anaconda3/envs/ir_ranknet/lib/python3.10/site-packages (from requests->python-terrier==0.12.1) (3.4.1)\n",
      "Requirement already satisfied: idna<4,>=2.5 in /Users/pepijn/anaconda3/envs/ir_ranknet/lib/python3.10/site-packages (from requests->python-terrier==0.12.1) (3.10)\n",
      "Requirement already satisfied: urllib3<3,>=1.21.1 in /Users/pepijn/anaconda3/envs/ir_ranknet/lib/python3.10/site-packages (from requests->python-terrier==0.12.1) (2.3.0)\n",
      "Requirement already satisfied: certifi>=2017.4.17 in /Users/pepijn/anaconda3/envs/ir_ranknet/lib/python3.10/site-packages (from requests->python-terrier==0.12.1) (2025.1.31)\n",
      "Requirement already satisfied: pycparser in /Users/pepijn/anaconda3/envs/ir_ranknet/lib/python3.10/site-packages (from cffi->fastrank) (2.22)\n",
      "Collecting heapdict (from chest->python-terrier==0.12.1)\n",
      "  Using cached HeapDict-1.0.1-py3-none-any.whl.metadata (1.9 kB)\n",
      "Requirement already satisfied: wrapt<2,>=1.10 in /Users/pepijn/anaconda3/envs/ir_ranknet/lib/python3.10/site-packages (from deprecated->python-terrier==0.12.1) (1.17.2)\n",
      "Requirement already satisfied: MarkupSafe>=2.0 in /Users/pepijn/anaconda3/envs/ir_ranknet/lib/python3.10/site-packages (from jinja2->python-terrier==0.12.1) (3.0.2)\n",
      "Requirement already satisfied: python-dateutil>=2.8.2 in /Users/pepijn/anaconda3/envs/ir_ranknet/lib/python3.10/site-packages (from pandas->python-terrier==0.12.1) (2.9.0.post0)\n",
      "Collecting pytz>=2020.1 (from pandas->python-terrier==0.12.1)\n",
      "  Downloading pytz-2025.2-py2.py3-none-any.whl.metadata (22 kB)\n",
      "Collecting tzdata>=2022.7 (from pandas->python-terrier==0.12.1)\n",
      "  Downloading tzdata-2025.2-py2.py3-none-any.whl.metadata (1.4 kB)\n",
      "Collecting patsy>=0.5.6 (from statsmodels->python-terrier==0.12.1)\n",
      "  Using cached patsy-1.0.1-py2.py3-none-any.whl.metadata (3.3 kB)\n",
      "Requirement already satisfied: packaging>=21.3 in /Users/pepijn/anaconda3/envs/ir_ranknet/lib/python3.10/site-packages (from statsmodels->python-terrier==0.12.1) (24.2)\n",
      "Collecting soupsieve>1.2 (from beautifulsoup4>=4.4.1->ir-datasets>=0.3.2->python-terrier==0.12.1)\n",
      "  Using cached soupsieve-2.6-py3-none-any.whl.metadata (4.6 kB)\n",
      "Requirement already satisfied: typing-extensions>=4.0.0 in /Users/pepijn/anaconda3/envs/ir_ranknet/lib/python3.10/site-packages (from beautifulsoup4>=4.4.1->ir-datasets>=0.3.2->python-terrier==0.12.1) (4.13.0)\n",
      "Requirement already satisfied: six>=1.5 in /Users/pepijn/anaconda3/envs/ir_ranknet/lib/python3.10/site-packages (from python-dateutil>=2.8.2->pandas->python-terrier==0.12.1) (1.17.0)\n",
      "Collecting cbor>=1.0.0 (from trec-car-tools>=2.5.4->ir-datasets>=0.3.2->python-terrier==0.12.1)\n",
      "  Using cached cbor-1.0.0.tar.gz (20 kB)\n",
      "  Preparing metadata (setup.py) ... \u001b[?25ldone\n",
      "\u001b[?25hUsing cached python_terrier-0.12.1-py3-none-any.whl (147 kB)\n",
      "Downloading nltk-3.9.1-py3-none-any.whl (1.5 MB)\n",
      "\u001b[2K   \u001b[90m━━━━━━━━━━━━━━━━━━━━━━━━━━━━━━━━━━━━━━━━\u001b[0m \u001b[32m1.5/1.5 MB\u001b[0m \u001b[31m9.1 MB/s\u001b[0m eta \u001b[36m0:00:00\u001b[0m\n",
      "\u001b[?25hDownloading scikit_learn-1.6.1-cp310-cp310-macosx_12_0_arm64.whl (11.1 MB)\n",
      "\u001b[2K   \u001b[90m━━━━━━━━━━━━━━━━━━━━━━━━━━━━━━━━━━━━━━━━\u001b[0m \u001b[32m11.1/11.1 MB\u001b[0m \u001b[31m19.2 MB/s\u001b[0m eta \u001b[36m0:00:00\u001b[0m \u001b[36m0:00:01\u001b[0m\n",
      "\u001b[?25hUsing cached lightgbm-4.6.0-py3-none-macosx_12_0_arm64.whl (1.6 MB)\n",
      "Using cached fastrank-0.8.0-py3-none-macosx_10_9_x86_64.macosx_11_0_arm64.macosx_10_9_universal2.whl (2.2 MB)\n",
      "Using cached LambdaRankNN-0.1.1-py3-none-any.whl (5.4 kB)\n",
      "Downloading ir_datasets-0.5.10-py3-none-any.whl (859 kB)\n",
      "\u001b[2K   \u001b[90m━━━━━━━━━━━━━━━━━━━━━━━━━━━━━━━━━━━━━━━━\u001b[0m \u001b[32m859.0/859.0 kB\u001b[0m \u001b[31m22.6 MB/s\u001b[0m eta \u001b[36m0:00:00\u001b[0m\n",
      "\u001b[?25hDownloading ir_measures-0.3.7-py3-none-any.whl (60 kB)\n",
      "Using cached joblib-1.4.2-py3-none-any.whl (301 kB)\n",
      "Downloading pyjnius-1.6.1-cp310-cp310-macosx_10_9_universal2.whl (512 kB)\n",
      "Downloading regex-2024.11.6-cp310-cp310-macosx_11_0_arm64.whl (284 kB)\n",
      "Using cached threadpoolctl-3.6.0-py3-none-any.whl (18 kB)\n",
      "Using cached tqdm-4.67.1-py3-none-any.whl (78 kB)\n",
      "Using cached Deprecated-1.2.18-py2.py3-none-any.whl (10.0 kB)\n",
      "Using cached dill-0.3.9-py3-none-any.whl (119 kB)\n",
      "Downloading jinja2-3.1.6-py3-none-any.whl (134 kB)\n",
      "Using cached more_itertools-10.6.0-py3-none-any.whl (63 kB)\n",
      "Downloading pandas-2.2.3-cp310-cp310-macosx_11_0_arm64.whl (11.3 MB)\n",
      "\u001b[2K   \u001b[90m━━━━━━━━━━━━━━━━━━━━━━━━━━━━━━━━━━━━━━━━\u001b[0m \u001b[32m11.3/11.3 MB\u001b[0m \u001b[31m34.2 MB/s\u001b[0m eta \u001b[36m0:00:00\u001b[0m \u001b[36m0:00:01\u001b[0m\n",
      "\u001b[?25hDownloading statsmodels-0.14.4-cp310-cp310-macosx_11_0_arm64.whl (9.9 MB)\n",
      "\u001b[2K   \u001b[90m━━━━━━━━━━━━━━━━━━━━━━━━━━━━━━━━━━━━━━━━\u001b[0m \u001b[32m9.9/9.9 MB\u001b[0m \u001b[31m10.9 MB/s\u001b[0m eta \u001b[36m0:00:00\u001b[0ma \u001b[36m0:00:01\u001b[0m\n",
      "\u001b[?25hUsing cached beautifulsoup4-4.13.3-py3-none-any.whl (186 kB)\n",
      "Downloading ijson-3.3.0-cp310-cp310-macosx_11_0_arm64.whl (57 kB)\n",
      "Downloading inscriptis-2.6.0-py3-none-any.whl (45 kB)\n",
      "Downloading lxml-5.3.1-cp310-cp310-macosx_10_9_universal2.whl (8.1 MB)\n",
      "\u001b[2K   \u001b[90m━━━━━━━━━━━━━━━━━━━━━━━━━━━━━━━━━━━━━━━━\u001b[0m \u001b[32m8.1/8.1 MB\u001b[0m \u001b[31m16.3 MB/s\u001b[0m eta \u001b[36m0:00:00\u001b[0ma \u001b[36m0:00:01\u001b[0m\n",
      "\u001b[?25hDownloading lz4-4.4.3-cp310-cp310-macosx_11_0_arm64.whl (189 kB)\n",
      "Using cached patsy-1.0.1-py2.py3-none-any.whl (232 kB)\n",
      "Downloading pyarrow-19.0.1-cp310-cp310-macosx_12_0_arm64.whl (30.7 MB)\n",
      "\u001b[2K   \u001b[90m━━━━━━━━━━━━━━━━━━━━━━━━━━━━━━━━━━━━━━━━\u001b[0m \u001b[32m30.7/30.7 MB\u001b[0m \u001b[31m37.9 MB/s\u001b[0m eta \u001b[36m0:00:00\u001b[0ma \u001b[36m0:00:01\u001b[0m\n",
      "\u001b[?25hDownloading pytz-2025.2-py2.py3-none-any.whl (509 kB)\n",
      "Downloading PyYAML-6.0.2-cp310-cp310-macosx_11_0_arm64.whl (171 kB)\n",
      "Using cached trec_car_tools-2.6-py3-none-any.whl (8.4 kB)\n",
      "Downloading tzdata-2025.2-py2.py3-none-any.whl (347 kB)\n",
      "Using cached unlzw3-0.2.3-py3-none-any.whl (6.7 kB)\n",
      "Using cached warc3_wet-0.2.5-py3-none-any.whl (18 kB)\n",
      "Using cached HeapDict-1.0.1-py3-none-any.whl (3.9 kB)\n",
      "Using cached soupsieve-2.6-py3-none-any.whl (36 kB)\n",
      "Building wheels for collected packages: pytrec-eval-terrier, chest, wget, warc3-wet-clueweb09, zlib-state, cbor\n",
      "  Building wheel for pytrec-eval-terrier (pyproject.toml) ... \u001b[?25ldone\n",
      "\u001b[?25h  Created wheel for pytrec-eval-terrier: filename=pytrec_eval_terrier-0.5.6-cp310-cp310-macosx_11_0_arm64.whl size=65742 sha256=6a5c73d1daba885f5d849631d829f9849d58649d62a455a0bbadec1e6378cbef\n",
      "  Stored in directory: /Users/pepijn/Library/Caches/pip/wheels/06/01/f4/b0316eecf9e7b36f8ff8d138d8577bdade27670ae63aa0f3e4\n",
      "  Building wheel for chest (setup.py) ... \u001b[?25ldone\n",
      "\u001b[?25h  Created wheel for chest: filename=chest-0.2.3-py3-none-any.whl size=7662 sha256=9e4ae0dad3cb449ba7c225beeb9cda4ba52a7819d77b507ed7411c9c131de1c7\n",
      "  Stored in directory: /Users/pepijn/Library/Caches/pip/wheels/88/cf/99/4773b31f855f9ecedc32a0ae400f7a4a3001b37c439b6d1a73\n",
      "  Building wheel for wget (setup.py) ... \u001b[?25ldone\n",
      "\u001b[?25h  Created wheel for wget: filename=wget-3.2-py3-none-any.whl size=9685 sha256=4682d3614d5a9c9948be797f497a2ce3980d2294a254a506deaa260397aacfc3\n",
      "  Stored in directory: /Users/pepijn/Library/Caches/pip/wheels/8b/f1/7f/5c94f0a7a505ca1c81cd1d9208ae2064675d97582078e6c769\n",
      "  Building wheel for warc3-wet-clueweb09 (setup.py) ... \u001b[?25ldone\n",
      "\u001b[?25h  Created wheel for warc3-wet-clueweb09: filename=warc3_wet_clueweb09-0.2.5-py3-none-any.whl size=18965 sha256=f088dab1739d738b7b6cac0bf8450b31351e6ec580a86b5eec890fe6297c3f09\n",
      "  Stored in directory: /Users/pepijn/Library/Caches/pip/wheels/1a/d7/91/7ffb991df87e62355d945745035470ba2616aa3d83a250b5f9\n",
      "  Building wheel for zlib-state (pyproject.toml) ... \u001b[?25ldone\n",
      "\u001b[?25h  Created wheel for zlib-state: filename=zlib_state-0.1.9-cp310-cp310-macosx_11_0_arm64.whl size=9707 sha256=0fb1cfec58ca29961ecc69ded4f19f93088aa7c0b4ecc736ed265a6823d5ccf3\n",
      "  Stored in directory: /Users/pepijn/Library/Caches/pip/wheels/13/93/f4/84a615b37966a45c8694b2adf16580c849ea3c8807e73bfba2\n",
      "  Building wheel for cbor (setup.py) ... \u001b[?25ldone\n",
      "\u001b[?25h  Created wheel for cbor: filename=cbor-1.0.0-cp310-cp310-macosx_11_0_arm64.whl size=19528 sha256=20f44523f4d23b50eba03a20d36744d51c686e8f0ece894bda425aa55bd434aa\n",
      "  Stored in directory: /Users/pepijn/Library/Caches/pip/wheels/85/df/c9/b39e40eccaf76dbd218556639a6dc81562226f4c6a64902c85\n",
      "Successfully built pytrec-eval-terrier chest wget warc3-wet-clueweb09 zlib-state cbor\n",
      "Installing collected packages: wget, warc3-wet-clueweb09, warc3-wet, pytz, pyjnius, LambdaRankNN, ijson, heapdict, cbor, zlib-state, unlzw3, tzdata, trec-car-tools, tqdm, threadpoolctl, soupsieve, regex, pyyaml, pytrec-eval-terrier, pyarrow, patsy, more-itertools, lz4, lxml, joblib, jinja2, dill, deprecated, chest, scikit-learn, pandas, nltk, lightgbm, ir-measures, inscriptis, fastrank, beautifulsoup4, statsmodels, ir-datasets, python-terrier\n",
      "Successfully installed LambdaRankNN-0.1.1 beautifulsoup4-4.13.3 cbor-1.0.0 chest-0.2.3 deprecated-1.2.18 dill-0.3.9 fastrank-0.8.0 heapdict-1.0.1 ijson-3.3.0 inscriptis-2.6.0 ir-datasets-0.5.10 ir-measures-0.3.7 jinja2-3.1.6 joblib-1.4.2 lightgbm-4.6.0 lxml-5.3.1 lz4-4.4.3 more-itertools-10.6.0 nltk-3.9.1 pandas-2.2.3 patsy-1.0.1 pyarrow-19.0.1 pyjnius-1.6.1 python-terrier-0.12.1 pytrec-eval-terrier-0.5.6 pytz-2025.2 pyyaml-6.0.2 regex-2024.11.6 scikit-learn-1.6.1 soupsieve-2.6 statsmodels-0.14.4 threadpoolctl-3.6.0 tqdm-4.67.1 trec-car-tools-2.6 tzdata-2025.2 unlzw3-0.2.3 warc3-wet-0.2.5 warc3-wet-clueweb09-0.2.5 wget-3.2 zlib-state-0.1.9\n",
      "Note: you may need to restart the kernel to use updated packages.\n"
     ]
    }
   ],
   "source": [
    "pip install python-terrier==0.12.1 nltk scikit-learn lightgbm fastrank LambdaRankNN"
   ]
  },
  {
   "cell_type": "code",
   "execution_count": 3,
   "metadata": {},
   "outputs": [
    {
     "name": "stderr",
     "output_type": "stream",
     "text": [
      "[nltk_data] Downloading package punkt to /Users/pepijn/nltk_data...\n",
      "[nltk_data]   Package punkt is already up-to-date!\n"
     ]
    },
    {
     "data": {
      "text/plain": [
       "True"
      ]
     },
     "execution_count": 3,
     "metadata": {},
     "output_type": "execute_result"
    }
   ],
   "source": [
    "import pyterrier as pt\n",
    "import nltk\n",
    "\n",
    "nltk.download(\"punkt\")"
   ]
  },
  {
   "cell_type": "code",
   "execution_count": 4,
   "metadata": {},
   "outputs": [],
   "source": [
    "dataset = pt.get_dataset(\"irds:nfcorpus\")"
   ]
  },
  {
   "cell_type": "code",
   "execution_count": 5,
   "metadata": {},
   "outputs": [
    {
     "name": "stderr",
     "output_type": "stream",
     "text": [
      "Java started (triggered by TerrierIndexer.__init__) and loaded: pyterrier.java, pyterrier.terrier.java [version=5.11 (build: craig.macdonald 2025-01-13 21:29), helper_version=0.0.8]\n",
      "nfcorpus documents: 100%|██████████| 5371/5371 [00:01<00:00, 2841.39it/s]\n"
     ]
    }
   ],
   "source": [
    "from pathlib import Path\n",
    "\n",
    "index = pt.index.IterDictIndexer(\n",
    "    str(Path.cwd()),  # this will be ignored\n",
    "    meta={\n",
    "        \"docno\": 16,\n",
    "        \"title\": 256,\n",
    "        \"abstract\": 65536,\n",
    "        \"url\": 128,\n",
    "    },\n",
    "    type=pt.index.IndexingType.MEMORY,\n",
    ").index(dataset.get_corpus_iter(), fields=[\"title\", \"abstract\", \"url\"])"
   ]
  },
  {
   "cell_type": "code",
   "execution_count": 6,
   "metadata": {},
   "outputs": [],
   "source": [
    "base_model = pt.terrier.FeaturesRetriever(\n",
    "    index,\n",
    "    wmodel=\"BM25\",\n",
    "    features=[\"WMODEL:BM25\", \"WMODEL:PL2\", \"WMODEL:DPH\"],\n",
    "    num_results=100,\n",
    "    metadata=[\"docno\", \"title\", \"abstract\", \"url\"],\n",
    ")"
   ]
  },
  {
   "cell_type": "code",
   "execution_count": 7,
   "metadata": {},
   "outputs": [],
   "source": [
    "from models.lambdaMART import *\n",
    "from models.lambdaRank import *\n",
    "from models.rankSVM import *\n",
    "from models.coordAscent import *\n",
    "from models.randomForest import *\n",
    "from models.rankNet import *"
   ]
  },
  {
   "cell_type": "code",
   "execution_count": null,
   "metadata": {},
   "outputs": [],
   "source": [
    "models = [\n",
    "    (\"lambdaMART\", get_lambdaMART_model(base_model)),\n",
    "    # (\"lambdaRank\", get_laWmbdaRank_model(base_model)),\n",
    "    # (\"rankSVM\", get_rankSVM_model(base_model)),\n",
    "    # (\"coordAscent\", get_coord_ascent_model(base_model)),\n",
    "    # (\"randomForest\", get_random_forest_model(base_model)),\n",
    "    (\"rankNet\", get_ranknet_model(base_model))\n",
    "]\n",
    "\n",
    "\n",
    "fitting_args = (\n",
    "    pt.get_dataset(\"irds:nfcorpus/train/nontopic\").get_topics(),\n",
    "    pt.get_dataset(\"irds:nfcorpus/train/nontopic\").get_qrels(),\n",
    "    pt.get_dataset(\"irds:nfcorpus/dev/nontopic\").get_topics(),\n",
    "    pt.get_dataset(\"irds:nfcorpus/dev/nontopic\").get_qrels(),\n",
    ")\n",
    "\n",
    "for model_name, model in models:\n",
    "    print(f\"Training {model_name}\")\n",
    "    model.fit(*fitting_args)\n"
   ]
  },
  {
   "cell_type": "code",
   "execution_count": null,
   "metadata": {},
   "outputs": [],
   "source": [
    "from pyterrier.measures import nDCG, RR, MAP\n",
    "\n",
    "basic_evaluations = pt.Experiment(\n",
    "    [base_model] + [model for _, model in models],\n",
    "    pt.get_dataset(\"irds:nfcorpus/test/nontopic\").get_topics(),\n",
    "    pt.get_dataset(\"irds:nfcorpus/test/nontopic\").get_qrels(),\n",
    "    names=[\"BM25\"] + [model_name for model_name, _ in models],\n",
    "    eval_metrics=[nDCG @ 10, RR @ 10, MAP],\n",
    ")\n",
    "\n",
    "basic_evaluations"
   ]
  },
  {
   "cell_type": "code",
   "execution_count": null,
   "metadata": {},
   "outputs": [],
   "source": [
    "from fairness import fairness_evaluation, compute_df\n",
    "\n",
    "baseline_df = compute_df(\n",
    "    base_model, \n",
    "    pt.get_dataset(\"irds:nfcorpus/test/nontopic\").get_topics(),\n",
    "    pt.get_dataset(\"irds:nfcorpus/test/nontopic\").get_qrels(),\n",
    ")\n",
    "\n",
    "model_dfs = [\n",
    "    compute_df(\n",
    "        model, \n",
    "        pt.get_dataset(\"irds:nfcorpus/test/nontopic\").get_topics(), \n",
    "        pt.get_dataset(\"irds:nfcorpus/test/nontopic\").get_qrels()\n",
    "    ) for _, model in models\n",
    "]\n",
    "\n",
    "print(\"Baseline\")\n",
    "display(baseline_df)\n",
    "print(\"Models\")\n",
    "for model_name, model_df in zip([model_name for model_name, _ in models], model_dfs):\n",
    "    print(model_name)\n",
    "    display(model_df)\n"
   ]
  },
  {
   "cell_type": "code",
   "execution_count": null,
   "metadata": {},
   "outputs": [],
   "source": [
    "fairness_evaluations = [fairness_evaluation(model_df, baseline_df) for model_df in model_dfs]\n",
    "\n",
    "for model_name, fairness_evaluation in zip([model_name for model_name, _ in models], fairness_evaluations):\n",
    "    print(model_name)\n",
    "    display(fairness_evaluation)"
   ]
  }
 ],
 "metadata": {
  "kernelspec": {
   "display_name": "ir_ranknet",
   "language": "python",
   "name": "python3"
  },
  "language_info": {
   "codemirror_mode": {
    "name": "ipython",
    "version": 3
   },
   "file_extension": ".py",
   "mimetype": "text/x-python",
   "name": "python",
   "nbconvert_exporter": "python",
   "pygments_lexer": "ipython3",
   "version": "3.10.16"
  }
 },
 "nbformat": 4,
 "nbformat_minor": 2
}
